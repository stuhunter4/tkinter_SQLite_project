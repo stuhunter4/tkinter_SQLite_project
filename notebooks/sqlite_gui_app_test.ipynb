{
 "cells": [
  {
   "cell_type": "code",
   "execution_count": 1,
   "metadata": {},
   "outputs": [],
   "source": [
    "import tkinter as tk\n",
    "import numpy as np\n",
    "import sqlalchemy\n",
    "from sqlalchemy.ext.automap import automap_base\n",
    "from sqlalchemy.orm import Session\n",
    "from sqlalchemy import create_engine, func"
   ]
  },
  {
   "cell_type": "code",
   "execution_count": 2,
   "metadata": {},
   "outputs": [],
   "source": [
    "# database setup\n",
    "engine = create_engine(\"sqlite:///resources/hawaii.sqlite\")"
   ]
  },
  {
   "cell_type": "code",
   "execution_count": 3,
   "metadata": {},
   "outputs": [],
   "source": [
    "# reflect database into a new model\n",
    "Base = automap_base()\n",
    "# reflect the tables\n",
    "Base.prepare(engine, reflect=True)"
   ]
  },
  {
   "cell_type": "code",
   "execution_count": 4,
   "metadata": {},
   "outputs": [],
   "source": [
    "# save references to each table\n",
    "Measurement = Base.classes.measurement\n",
    "Station = Base.classes.station"
   ]
  },
  {
   "cell_type": "code",
   "execution_count": 5,
   "metadata": {},
   "outputs": [],
   "source": [
    "# variables to contain height and width\n",
    "Height = 600\n",
    "Width = 700"
   ]
  },
  {
   "cell_type": "code",
   "execution_count": 6,
   "metadata": {},
   "outputs": [],
   "source": [
    "# function that creates a string of all key value pairs that the label object displays\n",
    "def format_response(response):\n",
    "    # create empty string to pass through label\n",
    "    response_string = \"\"\n",
    "    # iterate through all key, value pairs\n",
    "    for key, value in response.items():\n",
    "        line = f'{key}: {value}\\n'\n",
    "        # use += operator to add new string to original\n",
    "        response_string += line\n",
    "    return response_string"
   ]
  },
  {
   "cell_type": "code",
   "execution_count": 7,
   "metadata": {},
   "outputs": [],
   "source": [
    "# create function to trigger on button event\n",
    "# use our link to the DB to return precipitation results\n",
    "def get_weather(city):\n",
    "    # create our session (link) from Python to the DB\n",
    "    session = Session(engine)\n",
    "    ### return a dictionary using date as the key and prcp as the value ###\n",
    "    # query date and prcp\n",
    "    results = session.query(Measurement.date, Measurement.prcp).all()\n",
    "    session.close()\n",
    "    # create a dictionary of the tuples list\n",
    "    all_precipitation = dict(results)\n",
    "    # output results by defining the text parameter for the label object\n",
    "    label['text'] = format_response(all_precipitation)"
   ]
  },
  {
   "cell_type": "code",
   "execution_count": 8,
   "metadata": {},
   "outputs": [],
   "source": [
    "# basic step one, creates root parent\n",
    "root = tk.Tk()"
   ]
  },
  {
   "cell_type": "code",
   "execution_count": 9,
   "metadata": {},
   "outputs": [],
   "source": [
    "# gui created, first child of root\n",
    "canvas = tk.Canvas(root, height=Height, width=Width)\n",
    "# sometimes pack, sometimes place\n",
    "canvas.pack()"
   ]
  },
  {
   "cell_type": "code",
   "execution_count": 10,
   "metadata": {},
   "outputs": [],
   "source": [
    "# create a background image...\n",
    "\n",
    "# this code is for GIF and PNG files\n",
    "#background_image = tk.PhotoImage(file='resources/data_background.JPG')\n",
    "\n",
    "# for JPG files, you can use the PIL library to read and display an image\n",
    "from PIL import ImageTk, Image\n",
    "background_image = ImageTk.PhotoImage(Image.open('resources/data_background.JPG'))\n",
    "\n",
    "# pass image through the root in a label object\n",
    "background_label = tk.Label(root, image=background_image)\n",
    "# relwidth/height causes the label to fill the root\n",
    "background_label.place(x=0, y=0, relwidth=1, relheight=1)"
   ]
  },
  {
   "cell_type": "code",
   "execution_count": 11,
   "metadata": {},
   "outputs": [],
   "source": [
    "# frame created: internal area created inside of root parent\n",
    "frame = tk.Frame(root, bg='#FF0000', bd=5)\n",
    "# percentage of screen, in two parameters, first centers second shrinks\n",
    "frame.place(relx=0.5, rely=0.1, relwidth=0.75, relheight=0.1, anchor='n')"
   ]
  },
  {
   "cell_type": "code",
   "execution_count": 12,
   "metadata": {},
   "outputs": [],
   "source": [
    "# creates a form inside frame parent\n",
    "# .place preferred to .grid to retain responsiveness of gui\n",
    "entry = tk.Entry(frame, font=('Arial', 18))\n",
    "entry.place(relwidth=0.65, relheight=1)"
   ]
  },
  {
   "cell_type": "code",
   "execution_count": 13,
   "metadata": {},
   "outputs": [],
   "source": [
    "# creates a button, also passing through frame instead of root\n",
    "# command argument lets button trigger a function\n",
    "# connect to entry using inline lambda function and entry.get()\n",
    "button = tk.Button(frame, text=\"Get Precipitation\", font=('Arial', 12), command=lambda: get_weather(entry.get()))\n",
    "button.place(relx=0.7, relwidth=0.3, relheight=1)"
   ]
  },
  {
   "cell_type": "code",
   "execution_count": 14,
   "metadata": {},
   "outputs": [],
   "source": [
    "# second frame passing through root parent\n",
    "# note: with anchor argument and compass parameter, lower_frame would not be centered here\n",
    "lower_frame = tk.Frame(root, bg='#FF0000', bd=10)\n",
    "lower_frame.place(relx=0.5, rely=0.25, relwidth=0.75, relheight=0.6, anchor='n')"
   ]
  },
  {
   "cell_type": "code",
   "execution_count": 15,
   "metadata": {},
   "outputs": [],
   "source": [
    "# pass a label through the lower_frame\n",
    "# relwidth/height causes the label to fill the lower_frame\n",
    "# with anchor for position, and justify for alignment, text appears in center, centered\n",
    "label = tk.Label(lower_frame, font=('Arial', 22), anchor='nw', justify='left', bd='4')\n",
    "label.place(relwidth=1, relheight=1)"
   ]
  },
  {
   "cell_type": "code",
   "execution_count": 16,
   "metadata": {},
   "outputs": [],
   "source": [
    "# basic step two\n",
    "root.mainloop()"
   ]
  },
  {
   "cell_type": "code",
   "execution_count": null,
   "metadata": {},
   "outputs": [],
   "source": []
  }
 ],
 "metadata": {
  "kernelspec": {
   "display_name": "Python 3",
   "language": "python",
   "name": "python3"
  },
  "language_info": {
   "codemirror_mode": {
    "name": "ipython",
    "version": 3
   },
   "file_extension": ".py",
   "mimetype": "text/x-python",
   "name": "python",
   "nbconvert_exporter": "python",
   "pygments_lexer": "ipython3",
   "version": "3.8.3"
  }
 },
 "nbformat": 4,
 "nbformat_minor": 4
}
