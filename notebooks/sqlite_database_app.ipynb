{
 "cells": [
  {
   "cell_type": "code",
   "execution_count": 1,
   "metadata": {},
   "outputs": [],
   "source": [
    "import tkinter as tk\n",
    "import numpy as np\n",
    "import sqlalchemy\n",
    "from sqlalchemy.ext.automap import automap_base\n",
    "from sqlalchemy.orm import Session\n",
    "from sqlalchemy import create_engine, func"
   ]
  },
  {
   "cell_type": "code",
   "execution_count": 2,
   "metadata": {},
   "outputs": [],
   "source": [
    "# database setup\n",
    "engine = create_engine(\"sqlite:///resources/vgsales_db.sqlite\")"
   ]
  },
  {
   "cell_type": "code",
   "execution_count": 3,
   "metadata": {},
   "outputs": [],
   "source": [
    "# reflect database into a new model\n",
    "Base = automap_base()\n",
    "# reflect the tables\n",
    "Base.prepare(engine, reflect=True)"
   ]
  },
  {
   "cell_type": "code",
   "execution_count": 4,
   "metadata": {},
   "outputs": [],
   "source": [
    "# assign the 'vgsales' class to a variable called 'vgsales'\n",
    "vgsales = Base.classes.vgsales"
   ]
  },
  {
   "cell_type": "code",
   "execution_count": 5,
   "metadata": {},
   "outputs": [],
   "source": [
    "# create a session\n",
    "session = Session(engine)"
   ]
  },
  {
   "cell_type": "code",
   "execution_count": 6,
   "metadata": {},
   "outputs": [],
   "source": [
    "results = session.query(vgsales).all()"
   ]
  },
  {
   "cell_type": "code",
   "execution_count": 7,
   "metadata": {},
   "outputs": [
    {
     "name": "stdout",
     "output_type": "stream",
     "text": [
      "------------\n",
      "<sqlalchemy.ext.automap.vgsales object at 0x00000235FC673BB0>\n",
      "------------\n",
      "<sqlalchemy.ext.automap.vgsales object at 0x00000235FC673BE0>\n",
      "------------\n",
      "<sqlalchemy.ext.automap.vgsales object at 0x00000235FD21B610>\n",
      "------------\n",
      "<sqlalchemy.ext.automap.vgsales object at 0x00000235FD21B670>\n",
      "------------\n",
      "<sqlalchemy.ext.automap.vgsales object at 0x00000235FD21B6D0>\n",
      "------------\n",
      "<sqlalchemy.ext.automap.vgsales object at 0x00000235FD21B700>\n",
      "------------\n",
      "<sqlalchemy.ext.automap.vgsales object at 0x00000235FD21B790>\n",
      "------------\n",
      "<sqlalchemy.ext.automap.vgsales object at 0x00000235FD21B820>\n",
      "------------\n",
      "<sqlalchemy.ext.automap.vgsales object at 0x00000235FD21B8B0>\n",
      "------------\n",
      "<sqlalchemy.ext.automap.vgsales object at 0x00000235FD21B940>\n"
     ]
    }
   ],
   "source": [
    "for item in results:\n",
    "    if item.id >= 11:\n",
    "        break\n",
    "    else:\n",
    "        print(\"-\"*12)\n",
    "        print(item)\n",
    "\n",
    "# close the session\n",
    "session.close()"
   ]
  },
  {
   "cell_type": "code",
   "execution_count": null,
   "metadata": {},
   "outputs": [],
   "source": []
  },
  {
   "cell_type": "code",
   "execution_count": null,
   "metadata": {},
   "outputs": [],
   "source": []
  },
  {
   "cell_type": "code",
   "execution_count": null,
   "metadata": {},
   "outputs": [],
   "source": []
  },
  {
   "cell_type": "code",
   "execution_count": null,
   "metadata": {},
   "outputs": [],
   "source": []
  },
  {
   "cell_type": "code",
   "execution_count": null,
   "metadata": {},
   "outputs": [],
   "source": []
  },
  {
   "cell_type": "code",
   "execution_count": null,
   "metadata": {},
   "outputs": [],
   "source": []
  }
 ],
 "metadata": {
  "kernelspec": {
   "display_name": "Python 3",
   "language": "python",
   "name": "python3"
  },
  "language_info": {
   "codemirror_mode": {
    "name": "ipython",
    "version": 3
   },
   "file_extension": ".py",
   "mimetype": "text/x-python",
   "name": "python",
   "nbconvert_exporter": "python",
   "pygments_lexer": "ipython3",
   "version": "3.8.3"
  }
 },
 "nbformat": 4,
 "nbformat_minor": 4
}
