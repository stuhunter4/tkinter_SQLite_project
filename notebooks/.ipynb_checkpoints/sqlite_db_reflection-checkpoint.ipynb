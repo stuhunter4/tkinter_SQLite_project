{
 "cells": [
  {
   "cell_type": "code",
   "execution_count": 1,
   "metadata": {},
   "outputs": [],
   "source": [
    "# python SQL toolkit and object relational mapper\n",
    "import pandas as pd\n",
    "import sqlalchemy\n",
    "\n",
    "from sqlalchemy.orm import Session\n",
    "from sqlalchemy import create_engine\n",
    "\n",
    "from sqlalchemy.ext.automap import automap_base"
   ]
  },
  {
   "cell_type": "code",
   "execution_count": 2,
   "metadata": {},
   "outputs": [],
   "source": [
    "# create engine using 'vgsales_db'.sqlite database file\n",
    "engine = create_engine(\"sqlite:///resources/vgsales_db.sqlite\")"
   ]
  },
  {
   "cell_type": "code",
   "execution_count": 3,
   "metadata": {},
   "outputs": [],
   "source": [
    "# declare a base using 'automap_base()'\n",
    "Base = automap_base()"
   ]
  },
  {
   "cell_type": "code",
   "execution_count": 4,
   "metadata": {},
   "outputs": [],
   "source": [
    "# use the Base class to reflect the database tables\n",
    "Base.prepare(engine, reflect=True)"
   ]
  },
  {
   "cell_type": "code",
   "execution_count": 5,
   "metadata": {},
   "outputs": [
    {
     "data": {
      "text/plain": [
       "['vgsales']"
      ]
     },
     "execution_count": 5,
     "metadata": {},
     "output_type": "execute_result"
    }
   ],
   "source": [
    "# print all of the classes mapped to the base\n",
    "Base.classes.keys()"
   ]
  },
  {
   "cell_type": "code",
   "execution_count": 6,
   "metadata": {},
   "outputs": [],
   "source": [
    "# assign the netflix_titles class to a variable called 'vgsales'\n",
    "vgsales = Base.classes.vgsales"
   ]
  },
  {
   "cell_type": "code",
   "execution_count": 7,
   "metadata": {},
   "outputs": [],
   "source": [
    "# create a session\n",
    "session = Session(engine)"
   ]
  },
  {
   "cell_type": "code",
   "execution_count": 8,
   "metadata": {},
   "outputs": [
    {
     "data": {
      "text/plain": [
       "{'_sa_instance_state': <sqlalchemy.orm.state.InstanceState at 0x28fecbb87c0>,\n",
       " 'eu_sales': 29.02,\n",
       " 'publisher': 'Nintendo',\n",
       " 'year': 2006.0,\n",
       " 'rank': 1,\n",
       " 'name': 'Wii Sports',\n",
       " 'platform': 'Wii',\n",
       " 'global_sales': 82.74,\n",
       " 'jp_sales': 3.77,\n",
       " 'na_sales': 41.49,\n",
       " 'genre': 'Sports',\n",
       " 'id': 1,\n",
       " 'other_sales': 8.46}"
      ]
     },
     "execution_count": 8,
     "metadata": {},
     "output_type": "execute_result"
    }
   ],
   "source": [
    "# display the row's columns and data in dictionary format\n",
    "first_row = session.query(vgsales).first()\n",
    "first_row.__dict__"
   ]
  },
  {
   "cell_type": "code",
   "execution_count": 9,
   "metadata": {},
   "outputs": [
    {
     "name": "stdout",
     "output_type": "stream",
     "text": [
      "('Wii Sports',)\n",
      "('Super Mario Bros.',)\n",
      "('Mario Kart Wii',)\n",
      "('Wii Sports Resort',)\n",
      "('Pokemon Red/Pokemon Blue',)\n",
      "('Tetris',)\n",
      "('New Super Mario Bros.',)\n",
      "('Wii Play',)\n",
      "('New Super Mario Bros. Wii',)\n",
      "('Duck Hunt',)\n"
     ]
    }
   ],
   "source": [
    "# use the session to query and display first 10 video games\n",
    "for row in session.query(vgsales.name).limit(10).all():\n",
    "    print(row)"
   ]
  },
  {
   "cell_type": "code",
   "execution_count": 10,
   "metadata": {},
   "outputs": [
    {
     "name": "stdout",
     "output_type": "stream",
     "text": [
      "------------\n",
      "id: 2\n",
      "Name: Super Mario Bros.\n",
      "Genre: Platform\n",
      "Publisher: Nintendo\n",
      "Global Sales: 40.24\n",
      "Year: 1985.0\n",
      "Rank: 2\n",
      "------------\n",
      "id: 375\n",
      "Name: Kung Fu\n",
      "Genre: Action\n",
      "Publisher: Nintendo\n",
      "Global Sales: 3.5\n",
      "Year: 1985.0\n",
      "Rank: 375\n",
      "------------\n",
      "id: 869\n",
      "Name: Soccer\n",
      "Genre: Sports\n",
      "Publisher: Nintendo\n",
      "Global Sales: 1.96\n",
      "Year: 1985.0\n",
      "Rank: 870\n",
      "------------\n",
      "id: 1261\n",
      "Name: Ice Climber\n",
      "Genre: Platform\n",
      "Publisher: Nintendo\n",
      "Global Sales: 1.5\n",
      "Year: 1985.0\n",
      "Rank: 1262\n",
      "------------\n",
      "id: 1491\n",
      "Name: Gyromite\n",
      "Genre: Puzzle\n",
      "Publisher: Nintendo\n",
      "Global Sales: 1.32\n",
      "Year: 1985.0\n",
      "Rank: 1492\n",
      "------------\n",
      "id: 2260\n",
      "Name: Balloon Fight\n",
      "Genre: Platform\n",
      "Publisher: Nintendo\n",
      "Global Sales: 0.92\n",
      "Year: 1985.0\n",
      "Rank: 2261\n",
      "------------\n",
      "id: 3908\n",
      "Name: Wrecking Crew\n",
      "Genre: Platform\n",
      "Publisher: Nintendo\n",
      "Global Sales: 0.51\n",
      "Year: 1985.0\n",
      "Rank: 3909\n"
     ]
    }
   ],
   "source": [
    "# display all 'Nintendo' games in 1985 with a query\n",
    "games = session.query(vgsales).filter(vgsales.publisher == 'Nintendo')\\\n",
    "    .filter(vgsales.year == 1985.0).all()\n",
    "\n",
    "# loop over and print out results\n",
    "for game in games:\n",
    "    print(\"-\"*12)\n",
    "    print(f'id: {game.id}')\n",
    "    print(f'Name: {game.name}')\n",
    "    print(f'Genre: {game.genre}')\n",
    "    print(f'Publisher: {game.publisher}')\n",
    "    print(f'Global Sales: {game.global_sales}')\n",
    "    print(f'Year: {game.year}')\n",
    "    print(f'Rank: {game.rank}')"
   ]
  },
  {
   "cell_type": "code",
   "execution_count": null,
   "metadata": {},
   "outputs": [],
   "source": []
  }
 ],
 "metadata": {
  "kernelspec": {
   "display_name": "Python 3",
   "language": "python",
   "name": "python3"
  },
  "language_info": {
   "codemirror_mode": {
    "name": "ipython",
    "version": 3
   },
   "file_extension": ".py",
   "mimetype": "text/x-python",
   "name": "python",
   "nbconvert_exporter": "python",
   "pygments_lexer": "ipython3",
   "version": "3.8.3"
  }
 },
 "nbformat": 4,
 "nbformat_minor": 4
}
