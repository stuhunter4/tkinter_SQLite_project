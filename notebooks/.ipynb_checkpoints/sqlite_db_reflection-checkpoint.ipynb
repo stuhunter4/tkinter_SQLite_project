{
 "cells": [
  {
   "cell_type": "code",
   "execution_count": 1,
   "metadata": {},
   "outputs": [],
   "source": [
    "# python SQL toolkit and object relational mapper\n",
    "import pandas as pd\n",
    "import sqlalchemy\n",
    "\n",
    "from sqlalchemy.orm import Session\n",
    "from sqlalchemy import create_engine\n",
    "\n",
    "from sqlalchemy.ext.automap import automap_base"
   ]
  },
  {
   "cell_type": "code",
   "execution_count": 2,
   "metadata": {},
   "outputs": [],
   "source": [
    "# create engine using 'netflix_db'.sqlite database file\n",
    "engine = create_engine(\"sqlite:///resources/netflix_db.sqlite\")"
   ]
  },
  {
   "cell_type": "code",
   "execution_count": 3,
   "metadata": {},
   "outputs": [],
   "source": [
    "# declare a base using 'automap_base()'\n",
    "Base = automap_base()"
   ]
  },
  {
   "cell_type": "code",
   "execution_count": 4,
   "metadata": {},
   "outputs": [],
   "source": [
    "# use the Base class to reflect the database tables\n",
    "Base.prepare(engine, reflect=True)"
   ]
  },
  {
   "cell_type": "code",
   "execution_count": 5,
   "metadata": {},
   "outputs": [
    {
     "data": {
      "text/plain": [
       "['netflix_titles']"
      ]
     },
     "execution_count": 5,
     "metadata": {},
     "output_type": "execute_result"
    }
   ],
   "source": [
    "# print all of the classes mapped to the base\n",
    "Base.classes.keys()"
   ]
  },
  {
   "cell_type": "code",
   "execution_count": 6,
   "metadata": {},
   "outputs": [],
   "source": [
    "# assign the netflix_titles class to a variable called 'Netflix'\n",
    "netflix = Base.classes.netflix_titles"
   ]
  },
  {
   "cell_type": "code",
   "execution_count": 7,
   "metadata": {},
   "outputs": [],
   "source": [
    "# create a session\n",
    "session = Session(engine)"
   ]
  },
  {
   "cell_type": "code",
   "execution_count": 8,
   "metadata": {},
   "outputs": [
    {
     "data": {
      "text/plain": [
       "{'_sa_instance_state': <sqlalchemy.orm.state.InstanceState at 0x1a458518a60>,\n",
       " 'release_year': 2020,\n",
       " 'country': 'Brazil',\n",
       " 'director': None,\n",
       " 'id': 1,\n",
       " 'title': '3%',\n",
       " 'show_id': 's1',\n",
       " 'listed_in': 'International TV Shows, TV Dramas, TV Sci-Fi & Fantasy',\n",
       " 'rating': 'TV-MA',\n",
       " 'date_added': 'August 14, 2020',\n",
       " 'cast': 'João Miguel, Bianca Comparato, Michel Gomes, Rodolfo Valente, Vaneza Oliveira, Rafael Lozano, Viviane Porto, Mel Fronckowiak, Sergio Mamberti, Zezé Motta, Celso Frateschi',\n",
       " 'type_': 'TV Show',\n",
       " 'description': 'In a future where the elite inhabit an island paradise far from the crowded slums, you get one chance to join the 3% saved from squalor.',\n",
       " 'duration': '4 Seasons'}"
      ]
     },
     "execution_count": 8,
     "metadata": {},
     "output_type": "execute_result"
    }
   ],
   "source": [
    "# display the row's columns and data in dictionary format\n",
    "first_row = session.query(netflix).first()\n",
    "first_row.__dict__"
   ]
  },
  {
   "cell_type": "code",
   "execution_count": 9,
   "metadata": {},
   "outputs": [
    {
     "name": "stdout",
     "output_type": "stream",
     "text": [
      "('3%',)\n",
      "('7:19',)\n",
      "('23:59',)\n",
      "('9',)\n",
      "('21',)\n",
      "('46',)\n",
      "('122',)\n",
      "('187',)\n",
      "('706',)\n",
      "('1920',)\n"
     ]
    }
   ],
   "source": [
    "# use the session to query and display first 10 titles\n",
    "for row in session.query(netflix.title).limit(10).all():\n",
    "    print(row)"
   ]
  },
  {
   "cell_type": "code",
   "execution_count": 10,
   "metadata": {},
   "outputs": [
    {
     "name": "stdout",
     "output_type": "stream",
     "text": [
      "------------\n",
      "id: 1243\n",
      "title: Catch Me If You Can\n",
      "type: Movie\n",
      "director: Steven Spielberg\n",
      "cast: Leonardo DiCaprio, Tom Hanks, Christopher Walken, Martin Sheen, Nathalie Baye, Amy Adams, James Brolin, Brian Howe, Frank John Hughes, Steve Eastin\n",
      "release year: 2002\n",
      "rating: PG-13\n",
      "------------\n",
      "id: 2800\n",
      "title: Hook\n",
      "type: Movie\n",
      "director: Steven Spielberg\n",
      "cast: Dustin Hoffman, Robin Williams, Julia Roberts, Bob Hoskins, Maggie Smith, Caroline Goodall, Charlie Korsmo, Amber Scott, Laurel Cronin, Phil Collins\n",
      "release year: 1991\n",
      "rating: PG\n",
      "------------\n",
      "id: 2991\n",
      "title: Indiana Jones and the Kingdom of the Crystal Skull\n",
      "type: Movie\n",
      "director: Steven Spielberg\n",
      "cast: Harrison Ford, Cate Blanchett, Karen Allen, Ray Winstone, John Hurt, Jim Broadbent, Igor Jijikine, Shia LaBeouf\n",
      "release year: 2008\n",
      "rating: PG-13\n",
      "------------\n",
      "id: 2992\n",
      "title: Indiana Jones and the Last Crusade\n",
      "type: Movie\n",
      "director: Steven Spielberg\n",
      "cast: Harrison Ford, Sean Connery, Denholm Elliott, Alison Doody, John Rhys-Davies, Julian Glover, River Phoenix, Michael Byrne, Kevork Malikyan, Robert Eddison\n",
      "release year: 1989\n",
      "rating: PG-13\n",
      "------------\n",
      "id: 2993\n",
      "title: Indiana Jones and the Raiders of the Lost Ark\n",
      "type: Movie\n",
      "director: Steven Spielberg\n",
      "cast: Harrison Ford, Karen Allen, Paul Freeman, Ronald Lacey, John Rhys-Davies, Denholm Elliott, Alfred Molina, Wolf Kahler, Anthony Higgins, Vic Tablian\n",
      "release year: 1981\n",
      "rating: PG\n",
      "------------\n",
      "id: 2994\n",
      "title: Indiana Jones and the Temple of Doom\n",
      "type: Movie\n",
      "director: Steven Spielberg\n",
      "cast: Harrison Ford, Kate Capshaw, Amrish Puri, Roshan Seth, Philip Stone, Roy Chiao, Jonathan Ke Quan, David Yip, Ric Young, Chua Kah Joo\n",
      "release year: 1984\n",
      "rating: PG\n",
      "------------\n",
      "id: 3647\n",
      "title: Lincoln\n",
      "type: Movie\n",
      "director: Steven Spielberg\n",
      "cast: Daniel Day-Lewis, Sally Field, David Strathairn, Joseph Gordon-Levitt, James Spader, Hal Holbrook, Tommy Lee Jones, Jackie Earle Haley, John Hawkes, Jared Harris, Joseph Cross, Tim Blake Nelson, David Oyelowo, Bruce McGill\n",
      "release year: 2012\n",
      "rating: PG-13\n",
      "------------\n",
      "id: 5431\n",
      "title: Schindler's List\n",
      "type: Movie\n",
      "director: Steven Spielberg\n",
      "cast: Liam Neeson, Ben Kingsley, Ralph Fiennes, Caroline Goodall, Jonathan Sagall, Embeth Davidtz, Małgorzata Gebel, Shmulik Levy, Mark Ivanir, Beatrice Macola, Friedrich von Thun, Andrzej Seweryn\n",
      "release year: 1993\n",
      "rating: R\n",
      "------------\n",
      "id: 6070\n",
      "title: The Adventures of Tintin\n",
      "type: Movie\n",
      "director: Steven Spielberg\n",
      "cast: Jamie Bell, Andy Serkis, Daniel Craig, Nick Frost, Simon Pegg, Daniel Mays, Gad Elmaleh, Toby Jones, Joe Starr\n",
      "release year: 2011\n",
      "rating: PG\n",
      "------------\n",
      "id: 7479\n",
      "title: War Horse\n",
      "type: Movie\n",
      "director: Steven Spielberg\n",
      "cast: Emily Watson, David Thewlis, Peter Mullan, Niels Arestrup, Tom Hiddleston, Jeremy Irvine, Benedict Cumberbatch, Toby Kebbell, David Kross, Eddie Marsan, Nicolas Bro, Rainer Bock, Patrick Kennedy, Liam Cunningham\n",
      "release year: 2011\n",
      "rating: PG-13\n"
     ]
    }
   ],
   "source": [
    "# filter directors for 'Steven Spielberg' films with a query\n",
    "spielberg = session.query(netflix).filter(netflix.director == 'Steven Spielberg').all()\n",
    "\n",
    "# loop over and print out results\n",
    "for steven in spielberg:\n",
    "    print(\"-\"*12)\n",
    "    print(f'id: {steven.id}')\n",
    "    print(f'title: {steven.title}')\n",
    "    print(f'type: {steven.type_}')\n",
    "    print(f'director: {steven.director}')\n",
    "    print(f'cast: {steven.cast}')\n",
    "    print(f'release year: {steven.release_year}')\n",
    "    print(f'rating: {steven.rating}')"
   ]
  }
 ],
 "metadata": {
  "kernelspec": {
   "display_name": "Python 3",
   "language": "python",
   "name": "python3"
  },
  "language_info": {
   "codemirror_mode": {
    "name": "ipython",
    "version": 3
   },
   "file_extension": ".py",
   "mimetype": "text/x-python",
   "name": "python",
   "nbconvert_exporter": "python",
   "pygments_lexer": "ipython3",
   "version": "3.8.3"
  }
 },
 "nbformat": 4,
 "nbformat_minor": 4
}
