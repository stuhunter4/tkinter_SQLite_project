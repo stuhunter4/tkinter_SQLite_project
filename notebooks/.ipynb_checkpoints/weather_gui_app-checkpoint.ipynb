{
 "cells": [
  {
   "cell_type": "code",
   "execution_count": 1,
   "metadata": {},
   "outputs": [],
   "source": [
    "import tkinter as tk"
   ]
  },
  {
   "cell_type": "code",
   "execution_count": 2,
   "metadata": {},
   "outputs": [],
   "source": [
    "# basic step one, creates parent\n",
    "root = tk.Tk()"
   ]
  },
  {
   "cell_type": "code",
   "execution_count": 3,
   "metadata": {},
   "outputs": [],
   "source": [
    "# size of gui\n",
    "canvas = tk.Canvas(root, height=600, width=700)\n",
    "\n",
    "# sometimes pack, sometimes place\n",
    "canvas.pack()"
   ]
  },
  {
   "cell_type": "code",
   "execution_count": 4,
   "metadata": {},
   "outputs": [],
   "source": [
    "# characteristics\n",
    "frame = tk.Frame(root, bg='#80c1ff')\n",
    "\n",
    "# percentage of screen, in two parameters, first centers second shrinks\n",
    "frame.place(relx=0.1, rely=0.1, relwidth=0.75, relheight=0.75)"
   ]
  },
  {
   "cell_type": "code",
   "execution_count": 5,
   "metadata": {},
   "outputs": [],
   "source": [
    "# first button, now passing through frame instead of root\n",
    "button = tk.Button(frame, text=\"Test Button\", bg='grey')\n",
    "button.pack(side='left', fill='x', expand=True)"
   ]
  },
  {
   "cell_type": "code",
   "execution_count": 6,
   "metadata": {},
   "outputs": [],
   "source": [
    "label = tk.Label(frame, text=\"This is a label\", bg='yellow')\n",
    "label.pack(side='left', fill='both')"
   ]
  },
  {
   "cell_type": "code",
   "execution_count": 7,
   "metadata": {},
   "outputs": [],
   "source": [
    "entry = tk.Entry(frame, bg='green')\n",
    "entry.pack(side='left', fill='both')"
   ]
  },
  {
   "cell_type": "code",
   "execution_count": 8,
   "metadata": {},
   "outputs": [],
   "source": [
    "# basic step two\n",
    "root.mainloop()"
   ]
  }
 ],
 "metadata": {
  "kernelspec": {
   "display_name": "Python 3",
   "language": "python",
   "name": "python3"
  },
  "language_info": {
   "codemirror_mode": {
    "name": "ipython",
    "version": 3
   },
   "file_extension": ".py",
   "mimetype": "text/x-python",
   "name": "python",
   "nbconvert_exporter": "python",
   "pygments_lexer": "ipython3",
   "version": "3.8.3"
  }
 },
 "nbformat": 4,
 "nbformat_minor": 4
}
