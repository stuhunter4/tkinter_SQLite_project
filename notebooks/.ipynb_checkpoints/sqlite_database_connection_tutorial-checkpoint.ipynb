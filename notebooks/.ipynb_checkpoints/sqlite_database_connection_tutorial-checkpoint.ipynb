{
 "cells": [
  {
   "cell_type": "markdown",
   "metadata": {},
   "source": [
    "https://youtu.be/8QuJKESRuCw DJ Oamen"
   ]
  },
  {
   "cell_type": "code",
   "execution_count": 1,
   "metadata": {},
   "outputs": [],
   "source": [
    "from tkinter import*\n",
    "from tkinter import ttk\n",
    "import tkinter.messagebox\n",
    "import random"
   ]
  },
  {
   "cell_type": "code",
   "execution_count": 2,
   "metadata": {},
   "outputs": [],
   "source": [
    "class memberConnect:\n",
    "    def __init__(self, root):\n",
    "        self.root = root\n",
    "        blankSpace = \" \"\n",
    "        self.root.title(155 * blankSpace + \"SQLite.Video Game Sales\")\n",
    "        self.root.resizable(width=False, height=False)\n",
    "        self.root.geometry(\"1110x600+0+0\")\n",
    "        \n",
    "        # frame created: internal area created inside of root parent\n",
    "        MainFrame = Frame(self.root, bd=10, width=1105, height=600, relief=RIDGE, bg='aliceblue')\n",
    "        # grid is fine instead of place, not resizing the window\n",
    "        MainFrame.grid()\n",
    "        \n",
    "        # title bar and search bar created\n",
    "        TitleFrames = Frame(MainFrame, bd=7, width=1080, height=100, relief=RIDGE)\n",
    "        TitleFrames.grid(row=0, column=0)\n",
    "        TitleFrame = Frame(TitleFrames, bd=7, width=1080, height=100, relief=RIDGE, bg='aliceblue')\n",
    "        TitleFrame.grid(row=0, column=0)\n",
    "        \n",
    "        SearchFrames = Frame(MainFrame, bd=5, width=1094, height=50, relief=RIDGE)\n",
    "        SearchFrames.grid(row=1, column=0)\n",
    "        \n",
    "        # lower space for the table\n",
    "        MidFrame = Frame(MainFrame, bd=5, width=1088, height=420, relief=RIDGE)\n",
    "        MidFrame.grid(row=3, column=0)\n",
    "        \n",
    "        TreeFrame = Frame(MidFrame, bd=5, width=1088, height=400, relief=RIDGE)\n",
    "        TreeFrame.grid(row=0, column=0,)\n",
    "        \n",
    "        # widget for the title\n",
    "        self.iblTitle = Label(TitleFrames, font=('arial', 40, 'bold'),\n",
    "                              text='Video Game Sales', bg='aliceblue', fg='cornflowerblue')\n",
    "        self.iblTitle.grid(row=0, column=0)\n",
    "        \n",
    "        # create search entry form and button\n",
    "        self.txtSearch = Entry(SearchFrames, font=('arial', 20), width=46, justify='left')\n",
    "        self.txtSearch.grid(row=0, column=0)\n",
    "        self.btnSearch = Button(SearchFrames, bd=4, font=('arial', 13, 'bold'), text=\"SEARCH\",\n",
    "                                width=18, height=1, bg='cornflowerblue', fg='white')\n",
    "        self.btnSearch.grid(row=0, column=2)\n",
    "        self.btnReset = Button(SearchFrames, bd=4, font=('arial', 13, 'bold'), text=\"RESET\",\n",
    "                                width=18, height=1, bg='cornflowerblue', fg='white')\n",
    "        self.btnReset.grid(row=0, column=3)"
   ]
  },
  {
   "cell_type": "code",
   "execution_count": 3,
   "metadata": {},
   "outputs": [],
   "source": [
    "if __name__=='__main__':\n",
    "    root = Tk()\n",
    "    application = memberConnect(root)\n",
    "    root.mainloop()"
   ]
  }
 ],
 "metadata": {
  "kernelspec": {
   "display_name": "Python 3",
   "language": "python",
   "name": "python3"
  },
  "language_info": {
   "codemirror_mode": {
    "name": "ipython",
    "version": 3
   },
   "file_extension": ".py",
   "mimetype": "text/x-python",
   "name": "python",
   "nbconvert_exporter": "python",
   "pygments_lexer": "ipython3",
   "version": "3.8.3"
  }
 },
 "nbformat": 4,
 "nbformat_minor": 4
}
